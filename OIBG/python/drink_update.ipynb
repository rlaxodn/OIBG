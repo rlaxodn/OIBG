{
 "cells": [
  {
   "cell_type": "markdown",
   "id": "a87de5fc",
   "metadata": {},
   "source": [
    "# 음료 crawling"
   ]
  },
  {
   "cell_type": "code",
   "execution_count": 1,
   "id": "b228a54e",
   "metadata": {},
   "outputs": [],
   "source": [
    "import os\n",
    "import sys\n",
    "from selenium import webdriver\n",
    "import chromedriver_autoinstaller\n",
    "\n",
    "from selenium.webdriver.common.by import By\n",
    "from selenium.webdriver.support.ui import WebDriverWait\n",
    "from selenium.webdriver.support import expected_conditions as EC\n",
    "\n",
    "from bs4 import BeautifulSoup\n",
    "import re\n",
    "\n",
    "from selenium.webdriver.common.action_chains import ActionChains"
   ]
  },
  {
   "cell_type": "code",
   "execution_count": 2,
   "id": "24287837",
   "metadata": {},
   "outputs": [],
   "source": [
    "def get_drink():\n",
    "    #크롬드라이버 실행\n",
    "    chromedriver_dir = r'C:/Users/LG/Downloads/chromedriver_win32/chromedriver.exe'\n",
    "    driver = webdriver.Chrome(chromedriver_dir) #, chrome_options=options)\n",
    "\n",
    "    #드라이버에 url을 넣음\n",
    "    driver.get('https://www.mcdonalds.co.kr/kor/menu/list.do')\n",
    "\n",
    "    #메뉴바로 마우스 이동\n",
    "    menu_bar=driver.find_element_by_xpath('/html/body/div[2]/header/div/nav/div/ul')\n",
    "    ActionChains(driver).move_to_element(menu_bar).perform()\n",
    "\n",
    "    #음료 리스트 접속\n",
    "    driver.find_element_by_xpath('/html/body/div[2]/header/div/nav/div/ul/li[1]/ul/li[6]/a').click()\n",
    "    driver.implicitly_wait(3)\n",
    "    driver.find_element_by_xpath('//*[@id=\"container\"]/div[1]/div[2]/div/ul/li[2]/a').click()\n",
    "\n",
    "    #메뉴 더보기 버튼 클릭\n",
    "    while True:\n",
    "        try:\n",
    "            driver.find_element_by_xpath('''//*[@id=\"btnMore\"]/button''').click()\n",
    "        except:\n",
    "            break\n",
    "    #로딩완료 대기\n",
    "    driver.implicitly_wait(3)\n",
    "\n",
    "    #음료명 받아오기\n",
    "    soup = BeautifulSoup(driver.page_source,'html.parser')\n",
    "    drink_list=[]\n",
    "    list = soup.find(id='menuList').find_all('strong')\n",
    "    for i in list:\n",
    "        drink_list.append(i.get_text())\n",
    "\n",
    "    #음료 이미지 받아오기\n",
    "    drink_img=[]\n",
    "    list2 = soup.find(id='menuList').find_all('img')\n",
    "    for i in list2:\n",
    "        drink_img.append('https://www.mcdonalds.co.kr'+i['src'])\n",
    "\n",
    "    result=[]\n",
    "    i=0\n",
    "    while i<len(drink_list):\n",
    "        value=[]\n",
    "        value.append(drink_list[i])\n",
    "        value.append(drink_img[i])\n",
    "        result.append(value)\n",
    "        i+=1\n",
    "    return result"
   ]
  },
  {
   "cell_type": "markdown",
   "id": "4bdf6d3a",
   "metadata": {},
   "source": [
    "# 음료정보DB UPDATE"
   ]
  },
  {
   "cell_type": "code",
   "execution_count": 3,
   "id": "66dd096f",
   "metadata": {},
   "outputs": [],
   "source": [
    "import pymysql"
   ]
  },
  {
   "cell_type": "code",
   "execution_count": 4,
   "id": "3148449c",
   "metadata": {},
   "outputs": [],
   "source": [
    "def update_data(input_list):\n",
    "    #DB연결하여 커서 얻기\n",
    "    conn = pymysql.connect(host='localhost', user='root', password='0000', db='barcode', charset='utf8')\n",
    "    cur = conn.cursor() \n",
    "    \n",
    "    #2차원 리스트에서 음료명, 이미지 리스트 분리\n",
    "    drink_list = []\n",
    "    image_list = []\n",
    "    for i in input_list:\n",
    "        drink_list.append(i[0])\n",
    "        image_list.append(i[1])\n",
    "        \n",
    "    # DB drink 데이터 얻기\n",
    "    sql = \"select * from drink_list\"\n",
    "    cur.execute(sql)\n",
    "\n",
    "    # fetchall()함수 통해 모든 행 저장\n",
    "    rows = cur.fetchall();\n",
    "    DBlist = []\n",
    "\n",
    "    # 모든 행 중 젤 앞 menu 열만 저장\n",
    "    for i in rows:\n",
    "        DBlist.append(i[0])\n",
    "    del_list = []\n",
    "\n",
    "    # DB에만 있고 크롤링 리스트에 없는 것 추출\n",
    "    for i in DBlist:\n",
    "        if i not in drink_list:\n",
    "            del_list.append(i)\n",
    "\n",
    "    # 기존 데이터 크롤링한 데이터에 없는 DB 데이터 삭제\n",
    "    sql = \"delete from drink_list where menu = %s\"\n",
    "    for i in range(len(del_list)):\n",
    "        cur.execute(sql, (del_list[i]))\n",
    "\n",
    "    # 삽입문(ignore 추가로 중복 무시하고 삽입)\n",
    "    sql = \"insert ignore into drink_list(drink, img) values(%s, %s)\"\n",
    "    for i in range(len(drink_list)):\n",
    "        cur.execute(sql, (drink_list[i], image_list[i]))\n",
    "\n",
    "    # DB에 반영\n",
    "    conn.commit()\n",
    "\n",
    "    # DB연결 종료\n",
    "    conn.close()"
   ]
  },
  {
   "cell_type": "code",
   "execution_count": 5,
   "id": "fac210a1",
   "metadata": {},
   "outputs": [],
   "source": [
    "update_data(get_drink())"
   ]
  },
  {
   "cell_type": "markdown",
   "id": "8667b55d",
   "metadata": {},
   "source": [
    "# ---------------------------끝--------------------------"
   ]
  }
 ],
 "metadata": {
  "kernelspec": {
   "display_name": "Python 3 (ipykernel)",
   "language": "python",
   "name": "python3"
  },
  "language_info": {
   "codemirror_mode": {
    "name": "ipython",
    "version": 3
   },
   "file_extension": ".py",
   "mimetype": "text/x-python",
   "name": "python",
   "nbconvert_exporter": "python",
   "pygments_lexer": "ipython3",
   "version": "3.9.2"
  }
 },
 "nbformat": 4,
 "nbformat_minor": 5
}
