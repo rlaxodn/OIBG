{
 "cells": [
  {
   "cell_type": "markdown",
   "id": "cc8f21e9",
   "metadata": {},
   "source": [
    "# 메뉴 crawling"
   ]
  },
  {
   "cell_type": "code",
   "execution_count": 31,
   "id": "bc29ccec",
   "metadata": {},
   "outputs": [],
   "source": [
    "import os\n",
    "import sys\n",
    "from selenium import webdriver\n",
    "import chromedriver_autoinstaller\n",
    "\n",
    "from selenium.webdriver.common.by import By\n",
    "from selenium.webdriver.support.ui import WebDriverWait\n",
    "from selenium.webdriver.support import expected_conditions as EC\n",
    "\n",
    "from selenium.webdriver.common.keys import Keys\n",
    "\n",
    "from bs4 import BeautifulSoup\n",
    "import re"
   ]
  },
  {
   "cell_type": "code",
   "execution_count": 32,
   "id": "3282bfa5",
   "metadata": {},
   "outputs": [],
   "source": [
    "def get_menu():\n",
    "    #크롬드라이버 실행\n",
    "#     options = webdriver.ChromeOptions()\n",
    "#     options.add_argument('headless')\n",
    "    chromedriver_dir = r'C:/Users/LG/Downloads/chromedriver_win32/chromedriver.exe'\n",
    "    driver = webdriver.Chrome(chromedriver_dir) #, chrome_options=options)\n",
    "    \n",
    "    #드라이버에 url을 넣음\n",
    "    driver.get('https://www.mcdonalds.co.kr/kor/menu/list.do')\n",
    "    driver.implicitly_wait(3)\n",
    "    \n",
    "    #메뉴 더보기 버튼 클릭\n",
    "    while True:\n",
    "        try:\n",
    "            driver.find_element_by_xpath('''//*[@id=\"btnMore\"]/button''').click()\n",
    "            driver.implicitly_wait(3)\n",
    "        except:\n",
    "            break\n",
    "    \n",
    "    #BeautifulSoup 사용하여 음식리스트 받아오기        \n",
    "    soup = BeautifulSoup(driver.page_source,'html.parser')\n",
    "    menu_list=[]\n",
    "    list = soup.find(id='menuList').find_all('strong')\n",
    "    for i in list:\n",
    "        menu_list.append(i.get_text())\n",
    "    \n",
    "    #리스트에서 특수문자 제거\n",
    "    new_list=[]\n",
    "    for i in menu_list:\n",
    "        new_list.append(re.sub('™|®','',i))\n",
    "        \n",
    "    #음식 이미지 받아오기\n",
    "    menu_img=[]\n",
    "    list2 = soup.find(id='menuList').find_all('img')\n",
    "    for i in list2:\n",
    "        menu_img.append('https://www.mcdonalds.co.kr'+i['src'])\n",
    "        \n",
    "    #세트 이미지 가져오기\n",
    "    driver.get('https://www.mcdonalds.co.kr/kor/menu/list.do')\n",
    "    driver.implicitly_wait(3)\n",
    "    driver.find_element_by_xpath('''//*[@id=\"container\"]/div[1]/div[2]/div/ul/li[2]/a''').send_keys(Keys.ENTER)\n",
    "    driver.implicitly_wait(3)\n",
    "\n",
    "    #메뉴 더보기 버튼 클릭\n",
    "    while True:\n",
    "        try:\n",
    "            driver.find_element_by_xpath('''//*[@id=\"btnMore\"]/button''').click()\n",
    "            driver.implicitly_wait(3)\n",
    "        except:\n",
    "            break\n",
    "\n",
    "    #BeautifulSoup 사용하여 세트 리스트 받아오기        \n",
    "    soup = BeautifulSoup(driver.page_source,'html.parser')\n",
    "    set_img=[]\n",
    "    list3 = soup.find(id='menuList').find_all('img')\n",
    "    for i in list3:\n",
    "        set_img.append('https://www.mcdonalds.co.kr'+i['src'])\n",
    "    \n",
    "    result=[]\n",
    "    i=0\n",
    "    while i<len(set_img):\n",
    "        value=[]\n",
    "        value.append(new_list[i])\n",
    "        value.append(menu_img[i])\n",
    "        value.append(set_img[i])\n",
    "        result.append(value)\n",
    "        i+=1\n",
    "        \n",
    "    return result\n"
   ]
  },
  {
   "cell_type": "markdown",
   "id": "cfed9528",
   "metadata": {},
   "source": [
    "# 메뉴정보 DB 업데이트"
   ]
  },
  {
   "cell_type": "code",
   "execution_count": 33,
   "id": "e0a08539",
   "metadata": {},
   "outputs": [],
   "source": [
    "import pymysql"
   ]
  },
  {
   "cell_type": "code",
   "execution_count": 34,
   "id": "2d390644",
   "metadata": {},
   "outputs": [],
   "source": [
    "#수정본\n",
    "def update_data(input_list):\n",
    "    #DB연결하여 커서 얻기\n",
    "    conn = pymysql.connect(host='localhost', user='root', password='0000', db='barcode', charset='utf8')\n",
    "    cur = conn.cursor() \n",
    "    \n",
    "    #2차원 리스트에서 메뉴명, 이미지, 세트 이미지 리스트 분리\n",
    "    menulist = []\n",
    "    imagelist = []\n",
    "    setlist = []\n",
    "    for i in input_list:\n",
    "        menulist.append(i[0])\n",
    "        imagelist.append(i[1])\n",
    "        setlist.append(i[2])\n",
    "\n",
    "    # DB menu 데이터 얻기\n",
    "    sql = \"select * from menu_list\"\n",
    "    cur.execute(sql)\n",
    "\n",
    "    # fetchall()함수 통해 모든 행 저장\n",
    "    rows = cur.fetchall();\n",
    "    DBlist = []\n",
    "\n",
    "    # 모든 행 중 젤 앞 menu 열만 저장\n",
    "    for i in rows:\n",
    "        DBlist.append(i[0])\n",
    "    del_list = []\n",
    "\n",
    "    # DB에만 있고 크롤링 리스트에 없는 것 추출\n",
    "    for i in DBlist:\n",
    "        if i not in menulist:\n",
    "            del_list.append(i)\n",
    "\n",
    "    # 기존 데이터 크롤링한 데이터에 없는 DB 데이터 삭제\n",
    "    sql = \"delete from menu_list where menu = %s\"\n",
    "    for i in range(len(del_list)):\n",
    "        cur.execute(sql, (del_list[i]))\n",
    "\n",
    "    # 삽입문(ignore 추가로 중복 무시하고 삽입)\n",
    "    sql = \"insert ignore into menu_list(menu, img, set_img) values(%s, %s, %s)\"\n",
    "    for i in range(len(menulist)):\n",
    "        cur.execute(sql, (menulist[i], imagelist[i], setlist[i]))\n",
    "\n",
    "    # DB에 반영\n",
    "    conn.commit()\n",
    "\n",
    "    # DB연결 종료\n",
    "    conn.close()"
   ]
  },
  {
   "cell_type": "code",
   "execution_count": 35,
   "id": "646cf264",
   "metadata": {},
   "outputs": [],
   "source": [
    "update_data(get_menu())"
   ]
  },
  {
   "cell_type": "markdown",
   "id": "b2fc567c",
   "metadata": {},
   "source": [
    "# -------------------------------------끝------------------------------------------"
   ]
  }
 ],
 "metadata": {
  "kernelspec": {
   "display_name": "Python 3 (ipykernel)",
   "language": "python",
   "name": "python3"
  },
  "language_info": {
   "codemirror_mode": {
    "name": "ipython",
    "version": 3
   },
   "file_extension": ".py",
   "mimetype": "text/x-python",
   "name": "python",
   "nbconvert_exporter": "python",
   "pygments_lexer": "ipython3",
   "version": "3.9.2"
  }
 },
 "nbformat": 4,
 "nbformat_minor": 5
}
